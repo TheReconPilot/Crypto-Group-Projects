{
 "cells": [
  {
   "cell_type": "markdown",
   "metadata": {},
   "source": [
    "## Key Generation"
   ]
  },
  {
   "cell_type": "code",
   "execution_count": null,
   "metadata": {},
   "outputs": [],
   "source": [
    "def permutate(original, fixed_key):\n",
    "    return ''.join(original[i - 1] for i in fixed_key)\n",
    "#.str works faster than string +=i when i is something also it helps to permutate in a single line\n",
    "\n",
    "def left_half(bits):\n",
    "    return bits[:len(bits)/2]\n",
    "\n",
    "\n",
    "def right_half(bits):\n",
    "    return bits[len(bits)/2:]\n",
    "\n",
    "# basically here 12 bits are broken into two parts L_0 is the left half and R_0 is the right half\n",
    "\n",
    "def shift(bits):\n",
    "    rotated_left_half = left_half(bits)[1:] + left_half(bits)[0]\n",
    "    rotated_right_half = right_half(bits)[1:] + right_half(bits)[0]\n",
    "    return rotated_left_half + rotated_right_half\n",
    "\n",
    "def key1():\n",
    "    return permutate(shift(permutate(KEY, FIXED_P10)), FIXED_P8)\n",
    "\n",
    "# We accepted a 10-bit key and permuted the bits by putting them in the P10 table.\n",
    "# Then we divide the key into 2 halves of 5-bit each.\n",
    "# Now we apply one bit left-shift on each key.\n",
    "#Combine both keys after step 3 and permute the bits by putting them in the P8 table. The output of the given table is the first key K1.\n",
    "\n",
    "def key2():\n",
    "    return permutate(shift(shift(shift(permutate(KEY, FIXED_P10)))), FIXED_P8)\n",
    "# The output obtained from step 3 i.e. 2 halves after one bit left shift should again undergo the process of two-bit left shift.\n",
    "#  Combine the 2 halves obtained from step 6 and permute them by putting them in the P8 table. The output of the given table is the second key K2\n",
    "\n",
    "def xor(bits, key):\n",
    "    new = ''\n",
    "    for bit, key_bit in zip(map(int, bits), map(int, key)):\n",
    "        new += str(((bit + key_bit) % 2))\n",
    "    return new\n",
    "\n",
    "# Considering that both bits and key are converted to int before applying this function.\n",
    "#thn we can use an *map* to apply a function to every member of a list, and it's faster than doing it in a list. "
   ]
  }
 ],
 "metadata": {
  "kernelspec": {
   "display_name": "Python 3",
   "language": "python",
   "name": "python3"
  },
  "language_info": {
   "codemirror_mode": {
    "name": "ipython",
    "version": 3
   },
   "file_extension": ".py",
   "mimetype": "text/x-python",
   "name": "python",
   "nbconvert_exporter": "python",
   "pygments_lexer": "ipython3",
   "version": "3.8.5"
  }
 },
 "nbformat": 4,
 "nbformat_minor": 4
}
