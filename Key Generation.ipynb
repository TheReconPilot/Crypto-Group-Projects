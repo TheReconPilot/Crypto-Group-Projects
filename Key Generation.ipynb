{
 "cells": [
  {
   "cell_type": "code",
   "execution_count": null,
   "metadata": {},
   "outputs": [],
   "source": [
    "def permutation(perm, Key):\n",
    "    permutated key = \"\"\n",
    "    for i in perm:\n",
    "        permutated_key += key[i-1]\n",
    "    return permutated key\n",
    "\n",
    "def generate_first_key(lt_key, rt_key):\n",
    "    left_key_rotation = lt_key[1:] + lt_key[:1]\n",
    "    right_key_rotation = rt_key[1:] + rt_key[:1]\n",
    "    key_rotation = left_key_rotation + right_key_rotation\n",
    "    return permutation(P8, key_rotation)\n",
    "    \n",
    "def generate_first_key(lt_key, rt_key):\n",
    "    left_key_rotation = lt_key[3:] + lt_key[:3]\n",
    "    right_key_rotation = rt_key[3:] + rt_key[:3]\n",
    "    key_rotation = left_key_rotation + right_key_rotation\n",
    "    return permutation(P8, key_rotation)\n",
    "\n",
    "def F(rt, subkey):\n",
    "    expanded_cipher = permutation(E, rt)\n",
    "    xor_cipher = bin( int(expanded_cipher, 2) ^ int(subkey, 2) )[2:].zfill(8)\n",
    "    left_xor_cipher = xor_cipher[:4]\n",
    "    right_xor_cipher = xor_cipher[4:]\n",
    "    left_sbox_cipher = Sbox(left_xor_cipher, S0)\n",
    "    right_sbox_cipher = Sbox(right_xor_cipher, S1)\n",
    "    return permutation(P4, left_sbox_cipher + right_sbox_cipher)"
   ]
  }
 ],
 "metadata": {
  "kernelspec": {
   "display_name": "Python 3",
   "language": "python",
   "name": "python3"
  },
  "language_info": {
   "codemirror_mode": {
    "name": "ipython",
    "version": 3
   },
   "file_extension": ".py",
   "mimetype": "text/x-python",
   "name": "python",
   "nbconvert_exporter": "python",
   "pygments_lexer": "ipython3",
   "version": "3.8.5"
  }
 },
 "nbformat": 4,
 "nbformat_minor": 4
}
