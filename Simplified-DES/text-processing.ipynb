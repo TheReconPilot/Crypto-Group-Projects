{
 "cells": [
  {
   "cell_type": "markdown",
   "id": "naughty-witness",
   "metadata": {},
   "source": [
    "# Text pre-processing for Simplified DES\n",
    "\n",
    "\n",
    "## Prototyping and Idea Testing\n",
    "\n",
    "The message can contain any valid Unicode character. The UTF-8 encoding is used."
   ]
  },
  {
   "cell_type": "code",
   "execution_count": 1,
   "id": "intended-freight",
   "metadata": {},
   "outputs": [
    {
     "data": {
      "text/plain": [
       "b'\\xe3\\x81\\x93'"
      ]
     },
     "execution_count": 1,
     "metadata": {},
     "output_type": "execute_result"
    }
   ],
   "source": [
    "'こ'.encode('utf-8', 'strict')"
   ]
  },
  {
   "cell_type": "code",
   "execution_count": 2,
   "id": "returning-seating",
   "metadata": {},
   "outputs": [
    {
     "data": {
      "text/plain": [
       "b'\\xd0\\x9f\\xd1\\x80\\xd0\\xb8\\xd0\\xb2\\xd0\\xb5\\xd1\\x82 \\xe3\\x81\\x93\\xe3\\x82\\x93\\xe3\\x81\\xab\\xe3\\x81\\xa1\\xe3\\x81\\xaf \\xd9\\x85\\xd8\\xb1\\xd8\\xad\\xd8\\xa8\\xd8\\xa7 \\xec\\x95\\x88\\xeb\\x85\\x95\\xed\\x95\\x98\\xec\\x84\\xb8\\xec\\x9a\\x94 \\xe0\\xb6\\x86\\xe0\\xb6\\xba\\xe0\\xb7\\x94\\xe0\\xb6\\xb6\\xe0\\xb7\\x9d\\xe0\\xb7\\x80\\xe0\\xb6\\xb1\\xe0\\xb7\\x8a \\xe0\\xa4\\xa8\\xe0\\xa4\\xae\\xe0\\xa4\\xb8\\xe0\\xa5\\x8d\\xe0\\xa4\\xa4\\xe0\\xa5\\x87 Hello'"
      ]
     },
     "execution_count": 2,
     "metadata": {},
     "output_type": "execute_result"
    }
   ],
   "source": [
    "m = \"Привет こんにちは مرحبا 안녕하세요 ආයුබෝවන් नमस्ते Hello\"\n",
    "m.encode('utf-8') "
   ]
  },
  {
   "cell_type": "code",
   "execution_count": 3,
   "id": "alert-boulder",
   "metadata": {},
   "outputs": [
    {
     "data": {
      "text/plain": [
       "b'\\xd0\\x9f\\xd1\\x80\\xd0\\xb8\\xd0\\xb2\\xd0\\xb5\\xd1\\x82 \\xe3\\x81\\x93\\xe3\\x82\\x93\\xe3\\x81\\xab\\xe3\\x81\\xa1\\xe3\\x81\\xaf \\xd9\\x85\\xd8\\xb1\\xd8\\xad\\xd8\\xa8\\xd8\\xa7 \\xec\\x95\\x88\\xeb\\x85\\x95\\xed\\x95\\x98\\xec\\x84\\xb8\\xec\\x9a\\x94 \\xe0\\xb6\\x86\\xe0\\xb6\\xba\\xe0\\xb7\\x94\\xe0\\xb6\\xb6\\xe0\\xb7\\x9d\\xe0\\xb7\\x80\\xe0\\xb6\\xb1\\xe0\\xb7\\x8a \\xe0\\xa4\\xa8\\xe0\\xa4\\xae\\xe0\\xa4\\xb8\\xe0\\xa5\\x8d\\xe0\\xa4\\xa4\\xe0\\xa5\\x87 Hello'"
      ]
     },
     "execution_count": 3,
     "metadata": {},
     "output_type": "execute_result"
    }
   ],
   "source": [
    "b = m.encode(encoding='utf-8', errors='strict')\n",
    "b"
   ]
  },
  {
   "cell_type": "code",
   "execution_count": 4,
   "id": "fourth-harvey",
   "metadata": {},
   "outputs": [
    {
     "data": {
      "text/plain": [
       "['11010000',\n",
       " '10011111',\n",
       " '11010001',\n",
       " '10000000',\n",
       " '11010000',\n",
       " '10111000',\n",
       " '11010000',\n",
       " '10110010',\n",
       " '11010000',\n",
       " '10110101',\n",
       " '11010001',\n",
       " '10000010',\n",
       " '00100000',\n",
       " '11100011',\n",
       " '10000001',\n",
       " '10010011',\n",
       " '11100011',\n",
       " '10000010',\n",
       " '10010011',\n",
       " '11100011',\n",
       " '10000001',\n",
       " '10101011',\n",
       " '11100011',\n",
       " '10000001',\n",
       " '10100001',\n",
       " '11100011',\n",
       " '10000001',\n",
       " '10101111',\n",
       " '00100000',\n",
       " '11011001',\n",
       " '10000101',\n",
       " '11011000',\n",
       " '10110001',\n",
       " '11011000',\n",
       " '10101101',\n",
       " '11011000',\n",
       " '10101000',\n",
       " '11011000',\n",
       " '10100111',\n",
       " '00100000',\n",
       " '11101100',\n",
       " '10010101',\n",
       " '10001000',\n",
       " '11101011',\n",
       " '10000101',\n",
       " '10010101',\n",
       " '11101101',\n",
       " '10010101',\n",
       " '10011000',\n",
       " '11101100',\n",
       " '10000100',\n",
       " '10111000',\n",
       " '11101100',\n",
       " '10011010',\n",
       " '10010100',\n",
       " '00100000',\n",
       " '11100000',\n",
       " '10110110',\n",
       " '10000110',\n",
       " '11100000',\n",
       " '10110110',\n",
       " '10111010',\n",
       " '11100000',\n",
       " '10110111',\n",
       " '10010100',\n",
       " '11100000',\n",
       " '10110110',\n",
       " '10110110',\n",
       " '11100000',\n",
       " '10110111',\n",
       " '10011101',\n",
       " '11100000',\n",
       " '10110111',\n",
       " '10000000',\n",
       " '11100000',\n",
       " '10110110',\n",
       " '10110001',\n",
       " '11100000',\n",
       " '10110111',\n",
       " '10001010',\n",
       " '00100000',\n",
       " '11100000',\n",
       " '10100100',\n",
       " '10101000',\n",
       " '11100000',\n",
       " '10100100',\n",
       " '10101110',\n",
       " '11100000',\n",
       " '10100100',\n",
       " '10111000',\n",
       " '11100000',\n",
       " '10100101',\n",
       " '10001101',\n",
       " '11100000',\n",
       " '10100100',\n",
       " '10100100',\n",
       " '11100000',\n",
       " '10100101',\n",
       " '10000111',\n",
       " '00100000',\n",
       " '01001000',\n",
       " '01100101',\n",
       " '01101100',\n",
       " '01101100',\n",
       " '01101111']"
      ]
     },
     "execution_count": 4,
     "metadata": {},
     "output_type": "execute_result"
    }
   ],
   "source": [
    "binaries = [bin(c)[2:].zfill(8) for c in b]\n",
    "binaries"
   ]
  },
  {
   "cell_type": "code",
   "execution_count": 5,
   "id": "serious-lafayette",
   "metadata": {},
   "outputs": [
    {
     "name": "stdout",
     "output_type": "stream",
     "text": [
      "110100001001111111010001100000001101000010111000110100001011001011010000101101011101000110000010001000001110001110000001100100111110001110000010100100111110001110000001101010111110001110000001101000011110001110000001101011110010000011011001100001011101100010110001110110001010110111011000101010001101100010100111001000001110110010010101100010001110101110000101100101011110110110010101100110001110110010000100101110001110110010011010100101000010000011100000101101101000011011100000101101101011101011100000101101111001010011100000101101101011011011100000101101111001110111100000101101111000000011100000101101101011000111100000101101111000101000100000111000001010010010101000111000001010010010101110111000001010010010111000111000001010010110001101111000001010010010100100111000001010010110000111001000000100100001100101011011000110110001101111\n",
      "\n",
      "len(jb) = 840\n"
     ]
    }
   ],
   "source": [
    "jb = ''.join(binaries)\n",
    "print(jb)\n",
    "print(f'\\n{len(jb) = }')"
   ]
  },
  {
   "cell_type": "code",
   "execution_count": 6,
   "id": "victorian-calgary",
   "metadata": {},
   "outputs": [
    {
     "data": {
      "text/plain": [
       "b'\\xd0\\x9f\\xd1\\x80\\xd0\\xb8\\xd0\\xb2\\xd0\\xb5\\xd1\\x82 \\xe3\\x81\\x93\\xe3\\x82\\x93\\xe3\\x81\\xab\\xe3\\x81\\xa1\\xe3\\x81\\xaf \\xd9\\x85\\xd8\\xb1\\xd8\\xad\\xd8\\xa8\\xd8\\xa7 \\xec\\x95\\x88\\xeb\\x85\\x95\\xed\\x95\\x98\\xec\\x84\\xb8\\xec\\x9a\\x94 \\xe0\\xb6\\x86\\xe0\\xb6\\xba\\xe0\\xb7\\x94\\xe0\\xb6\\xb6\\xe0\\xb7\\x9d\\xe0\\xb7\\x80\\xe0\\xb6\\xb1\\xe0\\xb7\\x8a \\xe0\\xa4\\xa8\\xe0\\xa4\\xae\\xe0\\xa4\\xb8\\xe0\\xa5\\x8d\\xe0\\xa4\\xa4\\xe0\\xa5\\x87 Hello'"
      ]
     },
     "execution_count": 6,
     "metadata": {},
     "output_type": "execute_result"
    }
   ],
   "source": [
    "test = int(jb, base=2).to_bytes(len(jb) // 8, 'big')\n",
    "test"
   ]
  },
  {
   "cell_type": "code",
   "execution_count": 7,
   "id": "younger-speaking",
   "metadata": {},
   "outputs": [
    {
     "data": {
      "text/plain": [
       "'Привет こんにちは مرحبا 안녕하세요 ආයුබෝවන් नमस्ते Hello'"
      ]
     },
     "execution_count": 7,
     "metadata": {},
     "output_type": "execute_result"
    }
   ],
   "source": [
    "test.decode(encoding='utf-8', errors='replace')"
   ]
  },
  {
   "cell_type": "code",
   "execution_count": 8,
   "id": "fourth-weapon",
   "metadata": {},
   "outputs": [
    {
     "name": "stdout",
     "output_type": "stream",
     "text": [
      "Help on method_descriptor:\n",
      "\n",
      "decode(self, /, encoding='utf-8', errors='strict')\n",
      "    Decode the bytes using the codec registered for encoding.\n",
      "    \n",
      "    encoding\n",
      "      The encoding with which to decode the bytes.\n",
      "    errors\n",
      "      The error handling scheme to use for the handling of decoding errors.\n",
      "      The default is 'strict' meaning that decoding errors raise a\n",
      "      UnicodeDecodeError. Other possible values are 'ignore' and 'replace'\n",
      "      as well as any other name registered with codecs.register_error that\n",
      "      can handle UnicodeDecodeErrors.\n",
      "\n"
     ]
    }
   ],
   "source": [
    "help(bytes.decode)"
   ]
  },
  {
   "cell_type": "markdown",
   "id": "congressional-danish",
   "metadata": {},
   "source": [
    "## Code Functions"
   ]
  },
  {
   "cell_type": "code",
   "execution_count": 9,
   "id": "caring-conclusion",
   "metadata": {},
   "outputs": [],
   "source": [
    "def binary_string(message):\n",
    "    bytestream = message.encode('utf-8', errors='strict')\n",
    "    \n",
    "    # Strip the leading '\\x', and pad with 0 to make each character binary string of length 8\n",
    "    binary_units = [bin(character)[2:].zfill(8) for character in bytestream]\n",
    "    \n",
    "    # Join the binary string for each character\n",
    "    binary_message = ''.join(binary_units)\n",
    "    \n",
    "    return binary_message"
   ]
  },
  {
   "cell_type": "code",
   "execution_count": 10,
   "id": "intelligent-litigation",
   "metadata": {},
   "outputs": [
    {
     "data": {
      "text/plain": [
       "'0100100001100101011011000110110001101111001000000101010001101000011001010111001001100101'"
      ]
     },
     "execution_count": 10,
     "metadata": {},
     "output_type": "execute_result"
    }
   ],
   "source": [
    "binary_string(\"Hello There\")"
   ]
  },
  {
   "cell_type": "code",
   "execution_count": 11,
   "id": "comfortable-jaguar",
   "metadata": {},
   "outputs": [],
   "source": [
    "from random import randint\n",
    "\n",
    "def pad_binary_string(message):\n",
    "    length = len(message)\n",
    "    \n",
    "    # Each binary unit is of length 8\n",
    "    # Simplified DES requires blocks of size 12\n",
    "    # LCM = 24\n",
    "    # Binary Message String size must be a multiple of 24\n",
    "    \n",
    "    \n",
    "    # Imagine message length is 40. We need 8 more characters.\n",
    "    # We are computing (40 * 23) mod 24\n",
    "    # Notice that 40 % 24 = 16 and 23 % 24 = 23\n",
    "    # So, it is equivalent to computing (16 * 23) mod 24\n",
    "    # Imagine it as the number 23 repeated sixteen times\n",
    "    # For each unit of this 23, one unit gets subtracted from (n * 23) % 24\n",
    "    # So, it is like subtracting 1 sixteen times from the modulo\n",
    "    # Hence, we directly get the extra number of characters needed\n",
    "    # Inspired from: https://stackoverflow.com/questions/56876655/padding-a-number-string-with-zeros-to-remain-as-a-multiple-of-3s-in-length\n",
    "    extra_needed_length = (len(message) * 23) % 24\n",
    "    \n",
    "    extra_characters = extra_needed_length // 8\n",
    "    \n",
    "    # Generate needed number of random characters for padding\n",
    "    # We stick to Uppercase Latin Alphabets\n",
    "    random_characters = ''.join([chr(randint(65, 90)) for i in range(extra_characters)])\n",
    "    \n",
    "    # Encode them into binary\n",
    "    padding_string = binary_string(random_characters)\n",
    "    \n",
    "    return message + padding_string"
   ]
  },
  {
   "cell_type": "code",
   "execution_count": 12,
   "id": "fatal-heart",
   "metadata": {},
   "outputs": [],
   "source": [
    "def decode_binary_string(ciphertext):\n",
    "    bytestream = int(ciphertext, base=2).to_bytes(len(ciphertext) // 8, byteorder='big')\n",
    "    \n",
    "    # Replace any errors with an unknown character symbol\n",
    "    plaintext = bytestream.decode('utf-8', errors='replace')\n",
    "    \n",
    "    return plaintext"
   ]
  },
  {
   "cell_type": "code",
   "execution_count": 13,
   "id": "extraordinary-editing",
   "metadata": {},
   "outputs": [],
   "source": [
    "def split_plaintext(plaintext):\n",
    "    length = len(plaintext)\n",
    "    block_size = 12\n",
    "    \n",
    "    blocks = [plaintext[i:i+block_size] for i in range(0, length, block_size)]\n",
    "    \n",
    "    return blocks"
   ]
  },
  {
   "cell_type": "markdown",
   "id": "baking-kruger",
   "metadata": {},
   "source": [
    "# Function Testing"
   ]
  },
  {
   "cell_type": "code",
   "execution_count": 14,
   "id": "golden-sherman",
   "metadata": {},
   "outputs": [
    {
     "data": {
      "text/plain": [
       "'01001000011001010110110001101100011011110010000011010000100111111101000110000000110100001011100011010000101100101101000010110101110100011000001000100000111000111000000110010011111000111000001010010011111000111000000110101011111000111000000110100001111000111000000110101111'"
      ]
     },
     "execution_count": 14,
     "metadata": {},
     "output_type": "execute_result"
    }
   ],
   "source": [
    "m = \"Hello Привет こんにちは\"\n",
    "bm = binary_string(m)\n",
    "bm"
   ]
  },
  {
   "cell_type": "code",
   "execution_count": 15,
   "id": "animated-wednesday",
   "metadata": {},
   "outputs": [
    {
     "data": {
      "text/plain": [
       "272"
      ]
     },
     "execution_count": 15,
     "metadata": {},
     "output_type": "execute_result"
    }
   ],
   "source": [
    "len(bm)"
   ]
  },
  {
   "cell_type": "code",
   "execution_count": 16,
   "id": "round-sociology",
   "metadata": {},
   "outputs": [
    {
     "data": {
      "text/plain": [
       "'010010000110010101101100011011000110111100100000110100001001111111010001100000001101000010111000110100001011001011010000101101011101000110000010001000001110001110000001100100111110001110000010100100111110001110000001101010111110001110000001101000011110001110000001101011110100010101010010'"
      ]
     },
     "execution_count": 16,
     "metadata": {},
     "output_type": "execute_result"
    }
   ],
   "source": [
    "pbm = pad_binary_string(bm)\n",
    "pbm"
   ]
  },
  {
   "cell_type": "code",
   "execution_count": 17,
   "id": "applicable-hospital",
   "metadata": {},
   "outputs": [
    {
     "data": {
      "text/plain": [
       "288"
      ]
     },
     "execution_count": 17,
     "metadata": {},
     "output_type": "execute_result"
    }
   ],
   "source": [
    "len(pbm)"
   ]
  },
  {
   "cell_type": "code",
   "execution_count": 18,
   "id": "supported-marks",
   "metadata": {},
   "outputs": [
    {
     "data": {
      "text/plain": [
       "['010010000110',\n",
       " '010101101100',\n",
       " '011011000110',\n",
       " '111100100000',\n",
       " '110100001001',\n",
       " '111111010001',\n",
       " '100000001101',\n",
       " '000010111000',\n",
       " '110100001011',\n",
       " '001011010000',\n",
       " '101101011101',\n",
       " '000110000010',\n",
       " '001000001110',\n",
       " '001110000001',\n",
       " '100100111110',\n",
       " '001110000010',\n",
       " '100100111110',\n",
       " '001110000001',\n",
       " '101010111110',\n",
       " '001110000001',\n",
       " '101000011110',\n",
       " '001110000001',\n",
       " '101011110100',\n",
       " '010101010010']"
      ]
     },
     "execution_count": 18,
     "metadata": {},
     "output_type": "execute_result"
    }
   ],
   "source": [
    "split_plaintext(pbm)"
   ]
  },
  {
   "cell_type": "code",
   "execution_count": 19,
   "id": "worldwide-harvard",
   "metadata": {},
   "outputs": [
    {
     "data": {
      "text/plain": [
       "'Hello Привет こんにちはER'"
      ]
     },
     "execution_count": 19,
     "metadata": {},
     "output_type": "execute_result"
    }
   ],
   "source": [
    "decode_binary_string(pbm)"
   ]
  },
  {
   "cell_type": "code",
   "execution_count": null,
   "id": "after-groove",
   "metadata": {},
   "outputs": [],
   "source": []
  }
 ],
 "metadata": {
  "kernelspec": {
   "display_name": "Python 3",
   "language": "python",
   "name": "python3"
  },
  "language_info": {
   "codemirror_mode": {
    "name": "ipython",
    "version": 3
   },
   "file_extension": ".py",
   "mimetype": "text/x-python",
   "name": "python",
   "nbconvert_exporter": "python",
   "pygments_lexer": "ipython3",
   "version": "3.8.6"
  }
 },
 "nbformat": 4,
 "nbformat_minor": 5
}
