{
 "cells": [
  {
   "cell_type": "code",
   "execution_count": 48,
   "metadata": {},
   "outputs": [
    {
     "name": "stdout",
     "output_type": "stream",
     "text": [
      "000\n"
     ]
    }
   ],
   "source": [
    "import numpy as np\n",
    "i='1011'#input string\n",
    "\n",
    "\n",
    "A = [['101','010','001','110','011','100','111','000'], #S-box\n",
    "    ['001','100','110','010','000','111','101','011']]\n",
    "def convert1(str): #convert a strting to a list\n",
    "    n=[] \n",
    "    n[:0]=str \n",
    "    return n \n",
    "z=convert1(np.array(A)[int(x),z+1])\n",
    "\n",
    "def convert2(s):   #convert list to string\n",
    "    str = \"\"  \n",
    "    for i in s:  \n",
    "        str += i  \n",
    "    return str  \n",
    "a=Convert(i)\n",
    "x=np.array(a)[0]\n",
    "y=np.array(a)[1]+np.array(a)[2]+np.array(a)[3]\n",
    "z=int(y,2)\n",
    "print(convert2(z))#final output string\n",
    "\n",
    "\n",
    "    \n"
   ]
  },
  {
   "cell_type": "code",
   "execution_count": null,
   "metadata": {},
   "outputs": [],
   "source": []
  }
 ],
 "metadata": {
  "kernelspec": {
   "display_name": "Python 3",
   "language": "python",
   "name": "python3"
  },
  "language_info": {
   "codemirror_mode": {
    "name": "ipython",
    "version": 3
   },
   "file_extension": ".py",
   "mimetype": "text/x-python",
   "name": "python",
   "nbconvert_exporter": "python",
   "pygments_lexer": "ipython3",
   "version": "3.8.6"
  }
 },
 "nbformat": 4,
 "nbformat_minor": 4
}
