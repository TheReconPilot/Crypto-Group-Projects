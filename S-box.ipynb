{
 "cells": [
  {
   "cell_type": "code",
   "execution_count": 121,
   "metadata": {},
   "outputs": [
    {
     "name": "stdout",
     "output_type": "stream",
     "text": [
      "011\n",
      "011\n"
     ]
    }
   ],
   "source": [
    "import numpy as np\n",
    "i='1111'#input string 1\n",
    "j='1001'#input string 2\n",
    "\n",
    "def convert1(str): #str-to-list\n",
    "    n=[] \n",
    "    n[:0]=str \n",
    "    return n \n",
    "\n",
    "\n",
    "def convert2(s):  #list-to-str \n",
    "    str = \"\"  \n",
    "    for i in s:  \n",
    "        str += i  \n",
    "    return str  \n",
    "\n",
    "listfromi=convert1(i)\n",
    "first_digit=np.array(listfromi)[0]\n",
    "next_three_digits=np.array(listfromi)[1]+np.array(listfromi)[2]+np.array(listfromi)[3]\n",
    "position_of_column_in_Sbox=int(next_three_digits,2)\n",
    "\n",
    "listfromj=convert1(j)\n",
    "first_digit_from_j=np.array(listfromj)[0]\n",
    "next_three_digits_from_j=np.array(listfromj)[1]+np.array(listfromj)[2]+np.array(listfromj)[3]\n",
    "position_of_column_in_Sbox2=int(next_three_digits_from_j,2)\n",
    "\n",
    "A = [['101','010','001','110','011','100','111','000'], #S box 1\n",
    "    ['001','100','110','010','000','111','101','011']]\n",
    "B = [['100','000','110','101','111','001','011','010'], #S box 2\n",
    "    ['101','011','000','111','110','010','001','100']]\n",
    "\n",
    "z=convert1(np.array(A)[int(first_digit),position_of_column_in_Sbox])\n",
    "Z=convert1(np.array(B)[int(first_digit_from_j),position_of_column_in_Sbox2])\n",
    "print(convert2(z))\n",
    "print(convert2(Z))\n"
   ]
  },
  {
   "cell_type": "code",
   "execution_count": 113,
   "metadata": {},
   "outputs": [
    {
     "name": "stdout",
     "output_type": "stream",
     "text": [
      "011\n",
      "011\n"
     ]
    }
   ],
   "source": [
    "\n",
    "\n",
    "\n",
    "\n",
    "print(convert2(z))\n",
    "print(convert2(Z))\n"
   ]
  },
  {
   "cell_type": "code",
   "execution_count": null,
   "metadata": {},
   "outputs": [],
   "source": []
  }
 ],
 "metadata": {
  "kernelspec": {
   "display_name": "Python 3",
   "language": "python",
   "name": "python3"
  },
  "language_info": {
   "codemirror_mode": {
    "name": "ipython",
    "version": 3
   },
   "file_extension": ".py",
   "mimetype": "text/x-python",
   "name": "python",
   "nbconvert_exporter": "python",
   "pygments_lexer": "ipython3",
   "version": "3.8.6"
  }
 },
 "nbformat": 4,
 "nbformat_minor": 4
}
