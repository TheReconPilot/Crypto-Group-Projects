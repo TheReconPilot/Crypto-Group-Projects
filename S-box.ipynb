{
 "cells": [
  {
   "cell_type": "code",
   "execution_count": 74,
   "metadata": {},
   "outputs": [
    {
     "name": "stdout",
     "output_type": "stream",
     "text": [
      "111\n",
      "011\n"
     ]
    }
   ],
   "source": [
    "import numpy as np\n",
    "i='1101'#input string 1\n",
    "I='1001'#input string 2\n",
    "x=convert1(i)\n",
    "l=np.array(x)[0]\n",
    "n=np.array(x)[1]+np.array(x)[2]+np.array(x)[3]\n",
    "m=int(n,2)\n",
    "X=convert1(I)\n",
    "L=np.array(X)[0]\n",
    "N=np.array(X)[1]+np.array(X)[2]+np.array(X)[3]\n",
    "M=int(N,2)\n",
    "\n",
    "A = [['101','010','001','110','011','100','111','000'], #S box 1\n",
    "    ['001','100','110','010','000','111','101','011']]\n",
    "B = [['100','000','110','101','111','001','011','010'], #S box 2\n",
    "    ['101','011','000','111','110','010','001','100']]\n",
    "def convert1(str): \n",
    "    n=[] \n",
    "    n[:0]=str \n",
    "    return n \n",
    "\n",
    "\n",
    "def convert2(s):   \n",
    "    str = \"\"  \n",
    "    for i in s:  \n",
    "        str += i  \n",
    "    return str  \n",
    "z=convert1(np.array(A)[int(l),m])\n",
    "Z=convert1(np.array(B)[int(L),M])\n",
    "print(convert2(z))\n",
    "print(convert2(Z))\n",
    "\n",
    "\n",
    "\n",
    "    \n"
   ]
  },
  {
   "cell_type": "code",
   "execution_count": null,
   "metadata": {},
   "outputs": [],
   "source": []
  }
 ],
 "metadata": {
  "kernelspec": {
   "display_name": "Python 3",
   "language": "python",
   "name": "python3"
  },
  "language_info": {
   "codemirror_mode": {
    "name": "ipython",
    "version": 3
   },
   "file_extension": ".py",
   "mimetype": "text/x-python",
   "name": "python",
   "nbconvert_exporter": "python",
   "pygments_lexer": "ipython3",
   "version": "3.8.6"
  }
 },
 "nbformat": 4,
 "nbformat_minor": 4
}
